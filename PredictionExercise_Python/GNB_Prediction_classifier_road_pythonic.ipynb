{
  "nbformat": 4,
  "nbformat_minor": 0,
  "metadata": {
    "colab": {
      "name": "GNB_Prediction_classifier_road_pythonic",
      "provenance": [],
      "collapsed_sections": [],
      "toc_visible": true
    },
    "kernelspec": {
      "name": "python3",
      "display_name": "Python 3"
    }
  },
  "cells": [
    {
      "cell_type": "markdown",
      "metadata": {
        "id": "n81yzwWWWpyS",
        "colab_type": "text"
      },
      "source": [
        "# Import all the necessary Libraries\n",
        "\n"
      ]
    },
    {
      "cell_type": "code",
      "metadata": {
        "id": "Cb2H3Q7RWgfs",
        "colab_type": "code",
        "colab": {}
      },
      "source": [
        "import numpy as np\n",
        "import json"
      ],
      "execution_count": 0,
      "outputs": []
    },
    {
      "cell_type": "markdown",
      "metadata": {
        "id": "y846H2i-Wz8-",
        "colab_type": "text"
      },
      "source": [
        "## Load the training data"
      ]
    },
    {
      "cell_type": "code",
      "metadata": {
        "id": "OnsPy5XNWl6r",
        "colab_type": "code",
        "colab": {
          "base_uri": "https://localhost:8080/",
          "height": 34
        },
        "outputId": "488277c2-51bf-4196-ca6d-01c0ed685987"
      },
      "source": [
        "with open('train.json', 'rb') as f:\n",
        "          j = json.load(f)\n",
        "print(j.keys())\n",
        "X = j['states']\n",
        "Y = j['labels']"
      ],
      "execution_count": 88,
      "outputs": [
        {
          "output_type": "stream",
          "text": [
            "dict_keys(['states', 'labels'])\n"
          ],
          "name": "stdout"
        }
      ]
    },
    {
      "cell_type": "code",
      "metadata": {
        "id": "PUfq_EOzW6Mw",
        "colab_type": "code",
        "colab": {
          "base_uri": "https://localhost:8080/",
          "height": 34
        },
        "outputId": "a378d3bd-0a62-4211-e312-8dd75e7600d0"
      },
      "source": [
        "X_train = np.array(X)\n",
        "y_train = np.array(Y).reshape(-1,1)\n",
        "print(X_train.shape,y_train.shape)\n",
        "#X_train"
      ],
      "execution_count": 89,
      "outputs": [
        {
          "output_type": "stream",
          "text": [
            "(750, 4) (750, 1)\n"
          ],
          "name": "stdout"
        }
      ]
    },
    {
      "cell_type": "markdown",
      "metadata": {
        "id": "hMljyZTwXeGP",
        "colab_type": "text"
      },
      "source": [
        "### Extract the total number of classes available in labels"
      ]
    },
    {
      "cell_type": "code",
      "metadata": {
        "id": "MWajk5iJXjit",
        "colab_type": "code",
        "colab": {
          "base_uri": "https://localhost:8080/",
          "height": 34
        },
        "outputId": "7f5d7e4e-5af0-4adf-9a20-b5ac060c1849"
      },
      "source": [
        "classes_data = set(Y) \n",
        "print(classes_data)"
      ],
      "execution_count": 90,
      "outputs": [
        {
          "output_type": "stream",
          "text": [
            "{'right', 'keep', 'left'}\n"
          ],
          "name": "stdout"
        }
      ]
    },
    {
      "cell_type": "markdown",
      "metadata": {
        "id": "yA6yjYZAXZHX",
        "colab_type": "text"
      },
      "source": [
        "### FInd the mean and variance of each variable based on each class and store them\n",
        "\n",
        "* As we have three classes here L K R we have to store the mean and variance for the each variable respective to these classes.\n",
        "\n",
        "* Variables 4 so total mean points 4 * 3 = 12\n",
        "total variance points 4 * 3 =12\n"
      ]
    },
    {
      "cell_type": "code",
      "metadata": {
        "id": "lHTnv8KcYv3F",
        "colab_type": "code",
        "colab": {
          "base_uri": "https://localhost:8080/",
          "height": 34
        },
        "outputId": "dce96747-ccec-44f3-d3dd-2ec32878cd03"
      },
      "source": [
        "total_train_samples = X_train.shape[0]\n",
        "total_variables = X_train.shape[1]\n",
        "print(total_train_samples,total_variables)"
      ],
      "execution_count": 91,
      "outputs": [
        {
          "output_type": "stream",
          "text": [
            "750 4\n"
          ],
          "name": "stdout"
        }
      ]
    },
    {
      "cell_type": "code",
      "metadata": {
        "id": "j7-ZKV9VazES",
        "colab_type": "code",
        "colab": {}
      },
      "source": [
        "temp_var_data = X_train[:,0].reshape(-1,1)\n",
        "temp_var_data.shape\n",
        "tt = temp_var_data[y_train=='left']"
      ],
      "execution_count": 0,
      "outputs": []
    },
    {
      "cell_type": "code",
      "metadata": {
        "id": "Ecbw4cjxXYei",
        "colab_type": "code",
        "colab": {
          "base_uri": "https://localhost:8080/",
          "height": 71
        },
        "outputId": "129532b7-9728-4a13-9538-a78478f392c0"
      },
      "source": [
        "mean_v = []\n",
        "variance_v = []\n",
        "\n",
        "temp_var_data = np.array([])\n",
        "for i in range(total_variables):\n",
        "  m_v = []\n",
        "  v_v = []\n",
        "  for each in classes_data:\n",
        "    temp_var_data = X_train[:,i].reshape(-1,1)\n",
        "    sorted_data = temp_var_data[y_train==each]\n",
        "    m_v.append(np.mean(sorted_data))\n",
        "    v_v.append(np.var(sorted_data))\n",
        "  mean_v.append(m_v)\n",
        "  variance_v.append(v_v)\n",
        "\n",
        "print(mean_v)\n",
        "print(variance_v)\n",
        "\n",
        "\n"
      ],
      "execution_count": 93,
      "outputs": [
        {
          "output_type": "stream",
          "text": [
            "[[19.47718533601552, 20.324249331305595, 19.714133843021123], [2.934049463734621, 3.6802398635260003, 5.051805971302731], [9.947171857828826, 9.998538905035847, 9.91412576886327], [0.954021902134653, 0.005812036946454296, -0.9670872636504063]]\n",
            "[[146.05850093405553, 130.78888470766984, 151.0414504886513], [5.346639057464283, 11.58599676646852, 5.570111210118603], [0.9064665992294042, 1.1419618439300834, 0.9805727278868248], [0.4184079876349627, 0.02826634149781208, 0.4399430283399336]]\n"
          ],
          "name": "stdout"
        }
      ]
    },
    {
      "cell_type": "code",
      "metadata": {
        "id": "go_skFRPkwno",
        "colab_type": "code",
        "colab": {
          "base_uri": "https://localhost:8080/",
          "height": 34
        },
        "outputId": "3254bec3-3e61-45d5-ce86-b65b26c4c076"
      },
      "source": [
        "mean_v[1][0]"
      ],
      "execution_count": 94,
      "outputs": [
        {
          "output_type": "execute_result",
          "data": {
            "text/plain": [
              "2.934049463734621"
            ]
          },
          "metadata": {
            "tags": []
          },
          "execution_count": 94
        }
      ]
    },
    {
      "cell_type": "code",
      "metadata": {
        "id": "KPKxoYxafgac",
        "colab_type": "code",
        "colab": {}
      },
      "source": [
        "def gpb(x,mu,var):\n",
        "  numer = np.exp(-0.5*((x-mu)**2)/var)\n",
        "  denom = 1/np.sqrt(2*(np.pi)*var)  \n",
        "  return (numer*denom)"
      ],
      "execution_count": 0,
      "outputs": []
    },
    {
      "cell_type": "code",
      "metadata": {
        "id": "2Z0in3n6gXHJ",
        "colab_type": "code",
        "colab": {
          "base_uri": "https://localhost:8080/",
          "height": 34
        },
        "outputId": "2fab75a9-1a73-4171-99ac-ba7b0894301d"
      },
      "source": [
        "gpb(0.99999,1,0.5)"
      ],
      "execution_count": 96,
      "outputs": [
        {
          "output_type": "execute_result",
          "data": {
            "text/plain": [
              "0.5641895834913373"
            ]
          },
          "metadata": {
            "tags": []
          },
          "execution_count": 96
        }
      ]
    },
    {
      "cell_type": "code",
      "metadata": {
        "id": "PZruvpwKl8yo",
        "colab_type": "code",
        "colab": {}
      },
      "source": [
        "pb_x =np.array([1/3,1/3,1/3,1/3]).reshape(-1,1)\n",
        "def pred_class(pred_data,prob_x = pb_x,classes_data=classes_data):\n",
        "  prob_classes = np.dot(pred_data.transpose(),prob_x)\n",
        "  total_prob = np.sum(prob_classes)\n",
        "  prob_classes = prob_classes/total_prob\n",
        "  idx = np.argmax(prob_classes)\n",
        "\n",
        "  return list(classes_data)[idx]"
      ],
      "execution_count": 0,
      "outputs": []
    },
    {
      "cell_type": "code",
      "metadata": {
        "id": "RgAbd8kJjFkA",
        "colab_type": "code",
        "colab": {
          "base_uri": "https://localhost:8080/",
          "height": 102
        },
        "outputId": "8738170d-2701-409e-b58f-4bf1ad891f4c"
      },
      "source": [
        "predict_data = np.ones((4,3))\n",
        "print(predict_data)\n",
        "print(np.matmul(predict_data.transpose(),np.array([0.5,0.5,0.5,0.5])))\n"
      ],
      "execution_count": 119,
      "outputs": [
        {
          "output_type": "stream",
          "text": [
            "[[1. 1. 1.]\n",
            " [1. 1. 1.]\n",
            " [1. 1. 1.]\n",
            " [1. 1. 1.]]\n",
            "[2. 2. 2.]\n"
          ],
          "name": "stdout"
        }
      ]
    },
    {
      "cell_type": "code",
      "metadata": {
        "id": "psK0RcAveRBO",
        "colab_type": "code",
        "colab": {}
      },
      "source": [
        "\n",
        "def predict(x_test,mean_v = mean_v,variance_v =variance_v,classes_data=classes_data):\n",
        "  predict_data = np.zeros((4,3))\n",
        "  for i in range(len(x_test)):\n",
        "      for j in range(len(classes_data)):\n",
        "        x = x_test[i]\n",
        "        mu = mean_v[i][j]\n",
        "        var = variance_v[i][j]\n",
        "        prob_c = gpb(x,mu,var)\n",
        "        predict_data[i,j] = prob_c\n",
        "  class_found = pred_class(predict_data)\n",
        "  return class_found\n"
      ],
      "execution_count": 0,
      "outputs": []
    },
    {
      "cell_type": "code",
      "metadata": {
        "id": "cCdooS3ElP9r",
        "colab_type": "code",
        "colab": {}
      },
      "source": [
        "x_test = [34.768072958280662, 0.83291381243218088, 8.2066386346429869, -0.99896114245770529]"
      ],
      "execution_count": 0,
      "outputs": []
    },
    {
      "cell_type": "code",
      "metadata": {
        "id": "yyjCx9YslE0n",
        "colab_type": "code",
        "colab": {
          "base_uri": "https://localhost:8080/",
          "height": 34
        },
        "outputId": "896039e0-10f0-4dfc-db99-a012c78993f2"
      },
      "source": [
        "predict_data = predict(x_test)\n",
        "print(predict_data)"
      ],
      "execution_count": 127,
      "outputs": [
        {
          "output_type": "stream",
          "text": [
            "left\n"
          ],
          "name": "stdout"
        }
      ]
    },
    {
      "cell_type": "markdown",
      "metadata": {
        "id": "ykdKL0c8W-H4",
        "colab_type": "text"
      },
      "source": [
        "## Load the test data"
      ]
    },
    {
      "cell_type": "code",
      "metadata": {
        "id": "D97UNHuBW9bJ",
        "colab_type": "code",
        "colab": {}
      },
      "source": [
        "with open('test.json', 'rb') as f:\n",
        "          j = json.load(f)\n",
        "X = j['states']\n",
        "Y = j['labels']"
      ],
      "execution_count": 0,
      "outputs": []
    },
    {
      "cell_type": "code",
      "metadata": {
        "id": "a5aQewmrqLW1",
        "colab_type": "code",
        "colab": {
          "base_uri": "https://localhost:8080/",
          "height": 51
        },
        "outputId": "75370c97-fb94-4e5b-d0e3-3c5e8329bc41"
      },
      "source": [
        "wrong_pred = 0\n",
        "success = 0\n",
        "data_len = len(X)\n",
        "for i in range(data_len):\n",
        "  pred = predict(X[i])\n",
        "  if(pred==Y[i]):\n",
        "    success += 1 \n",
        "  else:\n",
        "    wrong_pred +=1\n",
        "\n",
        "accuracy = (data_len-wrong_pred)*100/data_len\n",
        "print('the total number of missed predictions are:', wrong_pred)\n",
        "print('accuracy of the classifier is:', accuracy)"
      ],
      "execution_count": 136,
      "outputs": [
        {
          "output_type": "stream",
          "text": [
            "the total number of missed predictions are: 39\n",
            "accuracy of the classifier is: 84.4\n"
          ],
          "name": "stdout"
        }
      ]
    }
  ]
}