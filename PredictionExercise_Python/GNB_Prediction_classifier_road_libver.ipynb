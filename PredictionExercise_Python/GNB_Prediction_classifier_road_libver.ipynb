{
  "nbformat": 4,
  "nbformat_minor": 0,
  "metadata": {
    "colab": {
      "name": "GNB_Prediction_classifier_road_libver",
      "provenance": [],
      "collapsed_sections": [],
      "toc_visible": true
    },
    "kernelspec": {
      "name": "python3",
      "display_name": "Python 3"
    }
  },
  "cells": [
    {
      "cell_type": "code",
      "metadata": {
        "id": "hHJyU-GhfPsQ",
        "colab_type": "code",
        "colab": {}
      },
      "source": [
        "from sklearn.model_selection import train_test_split\n",
        "from sklearn.naive_bayes import GaussianNB\n",
        "import numpy as np\n",
        "import json"
      ],
      "execution_count": 0,
      "outputs": []
    },
    {
      "cell_type": "code",
      "metadata": {
        "id": "WlcgeQKUZvi4",
        "colab_type": "code",
        "outputId": "6e386d62-3253-4209-b9eb-2b755dff20ae",
        "colab": {
          "base_uri": "https://localhost:8080/",
          "height": 35
        }
      },
      "source": [
        "with open('train.json', 'rb') as f:\n",
        "          j = json.load(f)\n",
        "print(j.keys())\n",
        "X = j['states']\n",
        "Y = j['labels']\n"
      ],
      "execution_count": 0,
      "outputs": [
        {
          "output_type": "stream",
          "text": [
            "dict_keys(['states', 'labels'])\n"
          ],
          "name": "stdout"
        }
      ]
    },
    {
      "cell_type": "code",
      "metadata": {
        "id": "dx4vXw2iZ-iM",
        "colab_type": "code",
        "outputId": "96d797d1-08ca-4fa4-b5cf-48a2752e4bd1",
        "colab": {
          "base_uri": "https://localhost:8080/",
          "height": 35
        }
      },
      "source": [
        "X_train = np.array(X)\n",
        "y_train = np.array(Y).reshape(-1,1)\n",
        "print(X_train.shape,y_train.shape)\n",
        "#X_train"
      ],
      "execution_count": 0,
      "outputs": [
        {
          "output_type": "stream",
          "text": [
            "(750, 4) (750, 1)\n"
          ],
          "name": "stdout"
        }
      ]
    },
    {
      "cell_type": "code",
      "metadata": {
        "id": "5NcL3IMDyiRf",
        "colab_type": "code",
        "outputId": "3486dd02-3bf6-44af-f3c5-7d1315be9bc5",
        "colab": {
          "base_uri": "https://localhost:8080/",
          "height": 35
        }
      },
      "source": [
        "np.mean(X_train[:,3])"
      ],
      "execution_count": 0,
      "outputs": [
        {
          "output_type": "execute_result",
          "data": {
            "text/plain": [
              "0.0063529969646883054"
            ]
          },
          "metadata": {
            "tags": []
          },
          "execution_count": 23
        }
      ]
    },
    {
      "cell_type": "code",
      "metadata": {
        "id": "1qioKlIQav0x",
        "colab_type": "code",
        "colab": {}
      },
      "source": [
        "with open('test.json', 'rb') as f:\n",
        "          j = json.load(f)\n",
        "X = j['states']\n",
        "Y = j['labels']\n"
      ],
      "execution_count": 0,
      "outputs": []
    },
    {
      "cell_type": "code",
      "metadata": {
        "id": "wB5pe6_ta-dL",
        "colab_type": "code",
        "outputId": "0168b103-983a-4ab4-c5ba-8abca796b0f1",
        "colab": {
          "base_uri": "https://localhost:8080/",
          "height": 35
        }
      },
      "source": [
        "X_test = np.array(X)\n",
        "y_test = np.array(Y).reshape(-1,1)\n",
        "print(X_test.shape,y_test.shape)\n",
        "#X_test"
      ],
      "execution_count": 0,
      "outputs": [
        {
          "output_type": "stream",
          "text": [
            "(250, 4) (250, 1)\n"
          ],
          "name": "stdout"
        }
      ]
    },
    {
      "cell_type": "code",
      "metadata": {
        "id": "4JnFuRtZe4Nj",
        "colab_type": "code",
        "outputId": "d42e2984-fa34-4016-a7a7-250d540e1ef2",
        "colab": {
          "base_uri": "https://localhost:8080/",
          "height": 91
        }
      },
      "source": [
        "gnb =  GaussianNB()\n",
        "gnb.fit(X_train, y_train)\n"
      ],
      "execution_count": 0,
      "outputs": [
        {
          "output_type": "stream",
          "text": [
            "/usr/local/lib/python3.6/dist-packages/sklearn/naive_bayes.py:206: DataConversionWarning: A column-vector y was passed when a 1d array was expected. Please change the shape of y to (n_samples, ), for example using ravel().\n",
            "  y = column_or_1d(y, warn=True)\n"
          ],
          "name": "stderr"
        },
        {
          "output_type": "execute_result",
          "data": {
            "text/plain": [
              "GaussianNB(priors=None, var_smoothing=1e-09)"
            ]
          },
          "metadata": {
            "tags": []
          },
          "execution_count": 13
        }
      ]
    },
    {
      "cell_type": "code",
      "metadata": {
        "id": "SrysnpQPbhIZ",
        "colab_type": "code",
        "outputId": "afe87315-ee0f-4a0f-90a8-0a06c34e770a",
        "colab": {
          "base_uri": "https://localhost:8080/",
          "height": 71
        }
      },
      "source": [
        "y_pred  = gnb.predict(X_test)\n",
        "y_pred = y_pred.reshape(-1,1)\n",
        "total_test_points = y_pred.shape[0]\n",
        "print(y_pred.shape)\n",
        "misplaced_points =  (X_test.shape[0], (y_test != y_pred).sum())\n",
        "accuracy = ((total_test_points-misplaced_points[1])/total_test_points)\n",
        "print(\"Number of mislabeled points out of a total %d points : %d\" %misplaced_points)\n",
        "print(\"total accuracy of the classifier is\",accuracy)"
      ],
      "execution_count": 0,
      "outputs": [
        {
          "output_type": "stream",
          "text": [
            "(250, 1)\n",
            "Number of mislabeled points out of a total 250 points : 39\n",
            "total accuracy of the classifier is 0.844\n"
          ],
          "name": "stdout"
        }
      ]
    }
  ]
}